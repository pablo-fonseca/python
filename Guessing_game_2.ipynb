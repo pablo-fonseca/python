{
  "nbformat": 4,
  "nbformat_minor": 0,
  "metadata": {
    "colab": {
      "name": "Guessing game 2.ipynb",
      "provenance": [],
      "authorship_tag": "ABX9TyMGml9+IDiJzS0b1oj11EDp"
    },
    "kernelspec": {
      "name": "python3",
      "display_name": "Python 3"
    },
    "language_info": {
      "name": "python"
    }
  },
  "cells": [
    {
      "cell_type": "markdown",
      "metadata": {
        "id": "v0-g0RNlB5Tt"
      },
      "source": [
        "You, the user, will have in your head a number between 0 and 100. The program will guess a number, and you, the user, will say whether it is too high, too low, or your number."
      ]
    },
    {
      "cell_type": "code",
      "metadata": {
        "colab": {
          "base_uri": "https://localhost:8080/"
        },
        "id": "exEfAl2fGfhd",
        "outputId": "40333b43-439e-462c-b6da-4a2336f61d60"
      },
      "source": [
        "import random, time\n",
        "\n",
        "inferior = 1\n",
        "superior = int(input('Valor máximo:'))\n",
        "n_comp = (superior)//2\n",
        "n_user = int(input(\"Type a number between 1 - {} >> \".format(superior)))\n",
        "while n_user != n_comp:\n",
        "  if n_comp > n_user:\n",
        "    print(\"O computador acha que é {}. Result: Too high!\".format(n_comp))\n",
        "    superior = n_comp-1\n",
        "    n_comp = superior - ((superior - inferior)//2)\n",
        "    \n",
        "  elif n_comp < n_user:\n",
        "    print(\"o computador acha q é {}. Result: Too low!\".format(n_comp))\n",
        "    inferior = n_comp+1\n",
        "    n_comp = inferior + ((superior - inferior)//2)\n",
        "\n",
        "print(\"O computador acha que é {}. Correto!!1\".format(n_comp))"
      ],
      "execution_count": 7,
      "outputs": [
        {
          "output_type": "stream",
          "name": "stdout",
          "text": [
            "Valor máximo:100\n",
            "Type a number between 1 - 100 >> 42\n",
            "O computador acha que é 50. Result: Too high!\n",
            "o computador acha q é 25. Result: Too low!\n",
            "o computador acha q é 37. Result: Too low!\n",
            "O computador acha que é 43. Result: Too high!\n",
            "o computador acha q é 40. Result: Too low!\n",
            "o computador acha q é 41. Result: Too low!\n",
            "O computador acha que é 42. Correto!!1\n"
          ]
        }
      ]
    },
    {
      "cell_type": "code",
      "metadata": {
        "id": "_O98mpLqCf7L"
      },
      "source": [
        ""
      ],
      "execution_count": null,
      "outputs": []
    }
  ]
}