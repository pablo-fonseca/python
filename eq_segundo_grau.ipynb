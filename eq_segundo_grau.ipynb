{
  "nbformat": 4,
  "nbformat_minor": 0,
  "metadata": {
    "colab": {
      "name": "eq segundo grau.ipynb",
      "provenance": [],
      "authorship_tag": "ABX9TyMqBTBdhL2/zOZybMgMGD/A"
    },
    "kernelspec": {
      "name": "python3",
      "display_name": "Python 3"
    },
    "language_info": {
      "name": "python"
    }
  },
  "cells": [
    {
      "cell_type": "code",
      "metadata": {
        "colab": {
          "base_uri": "https://localhost:8080/"
        },
        "id": "414M24mJfek8",
        "outputId": "0110bc0e-edc0-4dab-cb13-b09fe3666976"
      },
      "source": [
        "import math\n",
        "a = float(input(\"digite o valor de a >> \"))\n",
        "if a != ++0:\n",
        "  b = float(input(\"digite o valor de b >> \"))\n",
        "  c = float(input(\"digite valor de c >> \"))\n",
        "\n",
        "  delta = b**2-(4*a*c)\n",
        "  if delta > 0:\n",
        "    x1 = (-b - math.sqrt(delta))/(2*a)\n",
        "    x2 = (-b + math.sqrt(delta))/(2*a)\n",
        "    print('A equação - {}²+({})x+({}) - possui raíxes {} e {}'.format(a,b,c,x1,x2))\n",
        "  elif delta == 0:\n",
        "    x1 = (-b + math.sqrt(delta))/(2*a)\n",
        "    print('A equação - {}²+({})x+({}) - possui somente uma raíz,  {}'.format(a, b, c, x1))\n",
        "  else:\n",
        "    print('O valor de delta é {}, portanto não possui raízes reais'.format(delta))\n",
        "else:\n",
        "  print('Como \"a\" é igual a zero, a equação não é de segundo grau. não posso ajudar')"
      ],
      "execution_count": 33,
      "outputs": [
        {
          "output_type": "stream",
          "name": "stdout",
          "text": [
            "digite o valor de a >> 1\n",
            "digite o valor de b >> 1\n",
            "digite valor de c >> -12\n",
            "A equação - 1.0²+(1.0)x+(-12.0) - possui raíxes -4.0 e 3.0\n"
          ]
        }
      ]
    },
    {
      "cell_type": "code",
      "metadata": {
        "id": "Xv1TDvt1le4B"
      },
      "source": [
        "import numpy as np\n",
        "x = np.array(range(int(x1-5), int(x2+5)))\n",
        "y = (a*x**2)+(b*x)+c\n"
      ],
      "execution_count": 34,
      "outputs": []
    },
    {
      "cell_type": "code",
      "metadata": {
        "colab": {
          "base_uri": "https://localhost:8080/",
          "height": 312
        },
        "id": "pPFKtKkTqqup",
        "outputId": "56802761-7a22-4f16-c6a8-4530def39373"
      },
      "source": [
        "import matplotlib.pyplot as plt\n",
        "plt.plot(x,y)\n",
        "\n",
        "# Add a title\n",
        "plt.title('My first Plot with Python')\n",
        "\n",
        "# Add X and y Label\n",
        "plt.xlabel('x axis')\n",
        "plt.ylabel('y axis')\n",
        "\n",
        "# Add a grid\n",
        "plt.grid(alpha=.4,linestyle='--')\n",
        "\n",
        "# Add a Legend\n",
        "plt.legend()\n",
        "\n",
        "# Show the plot\n",
        "plt.show()"
      ],
      "execution_count": 35,
      "outputs": [
        {
          "output_type": "stream",
          "name": "stderr",
          "text": [
            "No handles with labels found to put in legend.\n"
          ]
        },
        {
          "output_type": "display_data",
          "data": {
            "image/png": "[encoded data removed]",
            "text/plain": [
              "<Figure size 432x288 with 1 Axes>"
            ]
          },
          "metadata": {
            "needs_background": "light"
          }
        }
      ]
    },
    {
      "cell_type": "code",
      "metadata": {
        "colab": {
          "base_uri": "https://localhost:8080/"
        },
        "id": "cYVOYYcKgNYg",
        "outputId": "dc830907-e57c-4717-f394-96b5ca418479"
      },
      "source": [
        "a = 5\n",
        "print(-a)"
      ],
      "execution_count": null,
      "outputs": [
        {
          "output_type": "stream",
          "name": "stdout",
          "text": [
            "-5\n"
          ]
        }
      ]
    },
    {
      "cell_type": "code",
      "metadata": {
        "colab": {
          "base_uri": "https://localhost:8080/"
        },
        "id": "gtcy490Xgisj",
        "outputId": "c7b49e05-76a4-4a72-8294-eb01a563e770"
      },
      "source": [
        "5^2"
      ],
      "execution_count": null,
      "outputs": [
        {
          "output_type": "execute_result",
          "data": {
            "text/plain": [
              "7"
            ]
          },
          "metadata": {},
          "execution_count": 10
        }
      ]
    },
    {
      "cell_type": "code",
      "metadata": {
        "id": "sAQe0bnphwQU"
      },
      "source": [
        ""
      ],
      "execution_count": null,
      "outputs": []
    }
  ]
}