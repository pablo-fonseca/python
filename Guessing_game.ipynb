{
  "nbformat": 4,
  "nbformat_minor": 0,
  "metadata": {
    "colab": {
      "name": "Guessing game.ipynb",
      "provenance": [],
      "authorship_tag": "ABX9TyN50RzG1e9Kka1J7UZSvuCj",
      "include_colab_link": true
    },
    "kernelspec": {
      "name": "python3",
      "display_name": "Python 3"
    },
    "language_info": {
      "name": "python"
    }
  },
  "cells": [
    {
      "cell_type": "markdown",
      "metadata": {
        "id": "view-in-github",
        "colab_type": "text"
      },
      "source": [
        "<a href=\"https://colab.research.google.com/github/pablo-fonseca/python/blob/main/Guessing_game.ipynb\" target=\"_parent\"><img src=\"https://colab.research.google.com/assets/colab-badge.svg\" alt=\"Open In Colab\"/></a>"
      ]
    },
    {
      "cell_type": "code",
      "metadata": {
        "colab": {
          "base_uri": "https://localhost:8080/"
        },
        "id": "8xPrGEZu-81B",
        "outputId": "21a1394d-b0f2-4104-ad4c-248aa1d2e74e"
      },
      "source": [
        "import random\n",
        "number = random.randint(1,100)\n",
        "guess = 0\n",
        "c = 0\n",
        "while number != guess:\n",
        "  guess = int(input(\"Guess the number >> \"))\n",
        "  c = c+1\n",
        "  if guess > number:\n",
        "    print(\"Too high...\")\n",
        "  elif guess < number:\n",
        "    print(\"Too low...\")\n",
        "  else:\n",
        "    print(\"Exactly!!! You needed {} shots\".format(c))"
      ],
      "execution_count": 5,
      "outputs": [
        {
          "output_type": "stream",
          "name": "stdout",
          "text": [
            "Guess the number >> 50\n",
            "Too high...\n",
            "Guess the number >> 30\n",
            "Too high...\n",
            "Guess the number >> 15\n",
            "Too low...\n",
            "Guess the number >> 22\n",
            "Too high...\n",
            "Guess the number >> 18\n",
            "Too low...\n",
            "Guess the number >> 19\n",
            "Exactly!!! You needed 6 shots\n"
          ]
        }
      ]
    }
  ]
}