{
  "nbformat": 4,
  "nbformat_minor": 0,
  "metadata": {
    "colab": {
      "name": "01 Notas_estudante.ipynb",
      "provenance": [],
      "authorship_tag": "ABX9TyOG350pbvjXJkn1oevzPF3M"
    },
    "kernelspec": {
      "name": "python3",
      "display_name": "Python 3"
    },
    "language_info": {
      "name": "python"
    }
  },
  "cells": [
    {
      "cell_type": "code",
      "metadata": {
        "colab": {
          "base_uri": "https://localhost:8080/"
        },
        "id": "L2IIzMIJog0b",
        "outputId": "d2c0352c-00bf-4322-e55a-fc3a99beb664"
      },
      "source": [
        "alunos_aprov = []\n",
        "alunos_reprov= []\n",
        "cont = \"s\"\n",
        "\n",
        "while cont != \"n\":\n",
        "  nome = str(input(\"Nome do aluno: \"))\n",
        "  nota1 = float(input(\"Nota 1: \"))\n",
        "  nota2 = float(input(\"Nota 2: \"))\n",
        "  media = (nota1 + nota2)/2\n",
        "  nome_media = nome + ': ' +str(media)\n",
        "  if media > 7:\n",
        "    alunos_aprov.append(nome_media)\n",
        "  else:\n",
        "    alunos_reprov.append(nome_media)\n",
        "  cont = input(\"Cadastrar novo aluno? tecle s para Sim / n para Não\")\n",
        "\n",
        "print('Alunos aprovados', alunos_aprov)\n",
        "print('Alunos reprovados', alunos_reprov)"
      ],
      "execution_count": 10,
      "outputs": [
        {
          "output_type": "stream",
          "name": "stdout",
          "text": [
            "Nome do aluno: pablo\n",
            "Nota 1: 9\n",
            "Nota 2: 9\n",
            "Cadastrar novo aluno? tecle s para Sim / n para Nãom\n",
            "Nome do aluno: pablo\n",
            "Nota 1: 8\n",
            "Nota 2: 1\n",
            "Cadastrar novo aluno? tecle s para Sim / n para Nãon\n",
            "Alunos aprovados ['pablo: 9.0']\n",
            "Alunos reprovados ['pablo: 4.5']\n"
          ]
        }
      ]
    },
    {
      "cell_type": "code",
      "metadata": {
        "id": "cP27yYTJqF2Z"
      },
      "source": [
        ""
      ],
      "execution_count": null,
      "outputs": []
    }
  ]
}