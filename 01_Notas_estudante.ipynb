{
  "nbformat": 4,
  "nbformat_minor": 0,
  "metadata": {
    "colab": {
      "name": "01 Notas_estudante.ipynb",
      "provenance": [],
      "authorship_tag": "ABX9TyPVHax9FWuE1ZsH9FGk1uHl"
    },
    "kernelspec": {
      "name": "python3",
      "display_name": "Python 3"
    },
    "language_info": {
      "name": "python"
    }
  },
  "cells": [
    {
      "cell_type": "code",
      "metadata": {
        "colab": {
          "base_uri": "https://localhost:8080/"
        },
        "id": "L2IIzMIJog0b",
        "outputId": "ea9b231f-1a0b-4e50-94d8-30f755340972"
      },
      "source": [
        "alunos_aprov = []\n",
        "alunos_reprov= []\n",
        "cont = \"s\"\n",
        "\n",
        "while cont != \"n\":\n",
        "  nome = str(input(\"Nome do aluno: \"))\n",
        "  nota1 = float(input(\"Nota 1: \"))\n",
        "  nota2 = float(input(\"Nota 2: \"))\n",
        "  media = (nota1 + nota2)/2\n",
        "  nome_media = nome + ': ' +str(media)\n",
        "  if media > 7:\n",
        "    alunos_aprov.append(nome_media)\n",
        "  else:\n",
        "    alunos_reprov.append(nome_media)\n",
        "  cont = input(\"Cadastrar novo aluno? tecle s para Sim / n para Não >>  \")\n",
        "\n",
        "print('Alunos aprovados', alunos_aprov)\n",
        "print('Alunos reprovados', alunos_reprov)"
      ],
      "execution_count": 13,
      "outputs": [
        {
          "output_type": "stream",
          "name": "stdout",
          "text": [
            "Nome do aluno: Carolina\n",
            "Nota 1: 9\n",
            "Nota 2: 8\n",
            "Cadastrar novo aluno? tecle s para Sim / n para Não >>  s\n",
            "Nome do aluno: João\n",
            "Nota 1: 3\n",
            "Nota 2: 4\n",
            "Cadastrar novo aluno? tecle s para Sim / n para Não >>  s\n",
            "Nome do aluno: Maria\n",
            "Nota 1: 8\n",
            "Nota 2: 6\n",
            "Cadastrar novo aluno? tecle s para Sim / n para Não >>  s\n",
            "Nome do aluno: Jose\n",
            "Nota 1: 1\n",
            "Nota 2: 0\n",
            "Cadastrar novo aluno? tecle s para Sim / n para Não >>  n\n",
            "Alunos aprovados ['Carolina: 8.5']\n",
            "Alunos reprovados ['João: 3.5', 'Maria: 7.0', 'Jose: 0.5']\n"
          ]
        }
      ]
    },
    {
      "cell_type": "code",
      "metadata": {
        "id": "cP27yYTJqF2Z"
      },
      "source": [
        ""
      ],
      "execution_count": null,
      "outputs": []
    }
  ]
}